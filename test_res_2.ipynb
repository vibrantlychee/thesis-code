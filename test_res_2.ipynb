{
 "cells": [
  {
   "cell_type": "code",
   "execution_count": 1,
   "metadata": {},
   "outputs": [],
   "source": [
    "import numpy as np\n",
    "import matplotlib.pyplot as plt \n",
    "plt.rcParams['figure.facecolor'] = \"white\"\n",
    "\n",
    "from reservoir import reservoir as res\n",
    "from data import data\n",
    "from error import error\n",
    "\n",
    "from reservoir.reservoir import modify_node"
   ]
  },
  {
   "cell_type": "markdown",
   "metadata": {},
   "source": [
    "Create some test data"
   ]
  },
  {
   "cell_type": "code",
   "execution_count": 2,
   "metadata": {},
   "outputs": [],
   "source": [
    "DEL_T = 0.01"
   ]
  },
  {
   "cell_type": "code",
   "execution_count": 3,
   "metadata": {},
   "outputs": [
    {
     "name": "stdout",
     "output_type": "stream",
     "text": [
      "[[ -8.47965722 -14.5123554   15.72421705]\n",
      " [ -9.09696196 -15.40313805  16.60822317]\n",
      " [ -9.73928527 -16.26936278  17.64384007]\n",
      " ...\n",
      " [ -9.63164986  -0.84252354  36.6800054 ]\n",
      " [ -8.75710572  -0.08145599  35.7558209 ]\n",
      " [ -7.90106831   0.52294291  34.79606715]]\n",
      "(20000, 3)\n"
     ]
    }
   ],
   "source": [
    "lorenz_data = data.generate_lorenz_63(params=[10, 28, -8/3], \n",
    "                                      initial_state=[1, 1, 1], del_t=DEL_T,\n",
    "                                      steps=30000, washout=10000)\n",
    "print(lorenz_data)\n",
    "print(lorenz_data.shape)\n",
    "training_data = lorenz_data[:lorenz_data.shape[0] // 2]\n",
    "test_data = lorenz_data[lorenz_data.shape[0] // 2:]"
   ]
  },
  {
   "cell_type": "code",
   "execution_count": 4,
   "metadata": {},
   "outputs": [],
   "source": [
    "hyperparams = {\n",
    "    'GAMMA': 7.7,\n",
    "    'SIGMA': 0.81,\n",
    "    'RHO_IN': 0.37,\n",
    "    'K': 3,\n",
    "    'RHO_R': 0.41\n",
    "}\n",
    "\n",
    "# number of reservoir nodes\n",
    "N = 100\n",
    "# dimension of input signal\n",
    "d = 3"
   ]
  },
  {
   "cell_type": "markdown",
   "metadata": {},
   "source": [
    "Internal reservoir construction."
   ]
  },
  {
   "cell_type": "code",
   "execution_count": 5,
   "metadata": {},
   "outputs": [],
   "source": [
    "W_r = res.generate_W_r(hyperparams, (N, N), seed=42)\n",
    "W_in = res.generate_W_in(hyperparams, (N, d), seed=42)"
   ]
  },
  {
   "cell_type": "markdown",
   "metadata": {},
   "source": [
    "Generate reservoir."
   ]
  },
  {
   "cell_type": "code",
   "execution_count": 6,
   "metadata": {},
   "outputs": [],
   "source": [
    "def next_training_node(r_prev: np.ndarray, u_prev: np.ndarray, \n",
    "                       hyperparams: dict, W_r: np.ndarray, \n",
    "                       W_in: np.ndarray, delta_t: np.double) -> np.ndarray:\n",
    "# parse hyperparameter\n",
    "    GAMMA = hyperparams[\"GAMMA\"]\n",
    "    \n",
    "    return r_prev + delta_t * (((-GAMMA) * r_prev) + GAMMA * np.tanh(np.dot(W_r, r_prev) + np.dot(W_in, u_prev)))"
   ]
  },
  {
   "cell_type": "code",
   "execution_count": 7,
   "metadata": {},
   "outputs": [
    {
     "name": "stdout",
     "output_type": "stream",
     "text": [
      "[ 1.25784353 -1.14952156  0.2232467   3.39911833 -0.4099762   0.58150832\n",
      "  5.47354794  0.20400196 -0.61734167 -0.86785125  1.70013248 -1.96109681\n",
      "  0.5523374   1.97627089  4.54923585  6.13125458 -4.05184532 -0.14155296\n",
      " -0.9233338   2.10341081  1.6034256  -0.061099   -2.16087584  2.47035905\n",
      "  0.06896331  4.56136794 -5.45963017 -2.58172188  3.01185164  2.09271969\n",
      "  3.59110479 -2.66271615  1.53287196  0.3279889   3.7957388  -0.42170341\n",
      " -2.60743298  0.82388388 -5.43361392 -0.88775517  1.59369119 -0.81030227\n",
      " -0.56294716  6.20710117  0.20025215 -3.59746505  0.259477    1.39149207\n",
      "  1.61993173 -3.11775503  1.11109864 -2.58381244 -2.24740834 -1.78756819\n",
      "  1.60726667  9.31186998 -4.29413815  0.53331956 -5.81558309  0.17620202\n",
      " -2.58166629  0.93275271  0.08439438  0.96887137 -0.47639255 -0.51977737\n",
      " -1.41891925 -0.65646523  4.62694312  0.59568138  0.08322867 -0.71545454\n",
      "  2.64035851 -3.0297703   5.74449294  1.28967993  2.04112466 -0.13838184\n",
      " -0.11839749 -0.9750331  -2.15042054  5.37309278  2.20217578 -1.0997188\n",
      "  1.66601529 -0.18601763  0.12610322 -0.11943944  3.54042318  2.12363841\n",
      " -1.32872338 -0.25198099 -7.47755469  2.39300566 -2.97086894  0.55903946\n",
      "  5.9656953   1.30680117 -1.76208055  6.410363  ]\n"
     ]
    }
   ],
   "source": [
    "# using import\n",
    "import_modified_train_res, import_train_res = res.generate_training_reservoir(\n",
    "    data=training_data,\n",
    "    hyperparams=hyperparams,\n",
    "    W_r=W_r,\n",
    "    W_in=W_in,\n",
    "    delta_t=DEL_T\n",
    ")"
   ]
  },
  {
   "cell_type": "code",
   "execution_count": 8,
   "metadata": {},
   "outputs": [
    {
     "name": "stdout",
     "output_type": "stream",
     "text": [
      "[ 1.25784353 -1.14952156  0.2232467   3.39911833 -0.4099762   0.58150832\n",
      "  5.47354794  0.20400196 -0.61734167 -0.86785125  1.70013248 -1.96109681\n",
      "  0.5523374   1.97627089  4.54923585  6.13125458 -4.05184532 -0.14155296\n",
      " -0.9233338   2.10341081  1.6034256  -0.061099   -2.16087584  2.47035905\n",
      "  0.06896331  4.56136794 -5.45963017 -2.58172188  3.01185164  2.09271969\n",
      "  3.59110479 -2.66271615  1.53287196  0.3279889   3.7957388  -0.42170341\n",
      " -2.60743298  0.82388388 -5.43361392 -0.88775517  1.59369119 -0.81030227\n",
      " -0.56294716  6.20710117  0.20025215 -3.59746505  0.259477    1.39149207\n",
      "  1.61993173 -3.11775503  1.11109864 -2.58381244 -2.24740834 -1.78756819\n",
      "  1.60726667  9.31186998 -4.29413815  0.53331956 -5.81558309  0.17620202\n",
      " -2.58166629  0.93275271  0.08439438  0.96887137 -0.47639255 -0.51977737\n",
      " -1.41891925 -0.65646523  4.62694312  0.59568138  0.08322867 -0.71545454\n",
      "  2.64035851 -3.0297703   5.74449294  1.28967993  2.04112466 -0.13838184\n",
      " -0.11839749 -0.9750331  -2.15042054  5.37309278  2.20217578 -1.0997188\n",
      "  1.66601529 -0.18601763  0.12610322 -0.11943944  3.54042318  2.12363841\n",
      " -1.32872338 -0.25198099 -7.47755469  2.39300566 -2.97086894  0.55903946\n",
      "  5.9656953   1.30680117 -1.76208055  6.410363  ]\n"
     ]
    }
   ],
   "source": [
    "print(np.dot(W_in, training_data[0]))"
   ]
  },
  {
   "cell_type": "code",
   "execution_count": 9,
   "metadata": {},
   "outputs": [
    {
     "data": {
      "text/plain": [
       "array([ 1.25784353, -1.14952156,  0.2232467 ,  3.39911833, -0.4099762 ,\n",
       "        0.58150832,  5.47354794,  0.20400196, -0.61734167, -0.86785125,\n",
       "        1.70013248, -1.96109681,  0.5523374 ,  1.97627089,  4.54923585,\n",
       "        6.13125458, -4.05184532, -0.14155296, -0.9233338 ,  2.10341081,\n",
       "        1.6034256 , -0.061099  , -2.16087584,  2.47035905,  0.06896331,\n",
       "        4.56136794, -5.45963017, -2.58172188,  3.01185164,  2.09271969,\n",
       "        3.59110479, -2.66271615,  1.53287196,  0.3279889 ,  3.7957388 ,\n",
       "       -0.42170341, -2.60743298,  0.82388388, -5.43361392, -0.88775517,\n",
       "        1.59369119, -0.81030227, -0.56294716,  6.20710117,  0.20025215,\n",
       "       -3.59746505,  0.259477  ,  1.39149207,  1.61993173, -3.11775503,\n",
       "        1.11109864, -2.58381244, -2.24740834, -1.78756819,  1.60726667,\n",
       "        9.31186998, -4.29413815,  0.53331956, -5.81558309,  0.17620202,\n",
       "       -2.58166629,  0.93275271,  0.08439438,  0.96887137, -0.47639255,\n",
       "       -0.51977737, -1.41891925, -0.65646523,  4.62694312,  0.59568138,\n",
       "        0.08322867, -0.71545454,  2.64035851, -3.0297703 ,  5.74449294,\n",
       "        1.28967993,  2.04112466, -0.13838184, -0.11839749, -0.9750331 ,\n",
       "       -2.15042054,  5.37309278,  2.20217578, -1.0997188 ,  1.66601529,\n",
       "       -0.18601763,  0.12610322, -0.11943944,  3.54042318,  2.12363841,\n",
       "       -1.32872338, -0.25198099, -7.47755469,  2.39300566, -2.97086894,\n",
       "        0.55903946,  5.9656953 ,  1.30680117, -1.76208055,  6.410363  ])"
      ]
     },
     "execution_count": 9,
     "metadata": {},
     "output_type": "execute_result"
    }
   ],
   "source": [
    "import_train_res[0]"
   ]
  },
  {
   "cell_type": "code",
   "execution_count": 10,
   "metadata": {},
   "outputs": [],
   "source": [
    "n = training_data.shape[0]\n",
    "\n",
    "# testing\n",
    "test_train_res = np.ndarray((n, N))\n",
    "\n",
    "for i in range(n):\n",
    "    if i == 0:\n",
    "        test_train_res[i] = np.dot(W_in, training_data[0])\n",
    "    else:\n",
    "        test_train_res[i] = next_training_node(\n",
    "            r_prev=test_train_res[i-1],\n",
    "            u_prev=training_data[i-1],\n",
    "            hyperparams=hyperparams,\n",
    "            W_r=W_r,\n",
    "            W_in=W_in,\n",
    "            delta_t=DEL_T\n",
    "        )\n",
    "\n",
    "test_modified_train_res = np.ndarray(test_train_res.shape)\n",
    "for i in range(n):\n",
    "    test_modified_train_res[i] = modify_node(test_train_res[i])"
   ]
  },
  {
   "cell_type": "code",
   "execution_count": 11,
   "metadata": {},
   "outputs": [
    {
     "name": "stdout",
     "output_type": "stream",
     "text": [
      "0.0\n",
      "0.0\n"
     ]
    }
   ],
   "source": [
    "print(sum(sum(import_modified_train_res - test_modified_train_res)))\n",
    "print(sum(sum(import_train_res - test_train_res)))"
   ]
  },
  {
   "cell_type": "code",
   "execution_count": null,
   "metadata": {},
   "outputs": [],
   "source": []
  }
 ],
 "metadata": {
  "kernelspec": {
   "display_name": "Python 3.10.2 ('.env': venv)",
   "language": "python",
   "name": "python3"
  },
  "language_info": {
   "codemirror_mode": {
    "name": "ipython",
    "version": 3
   },
   "file_extension": ".py",
   "mimetype": "text/x-python",
   "name": "python",
   "nbconvert_exporter": "python",
   "pygments_lexer": "ipython3",
   "version": "3.10.2"
  },
  "orig_nbformat": 4,
  "vscode": {
   "interpreter": {
    "hash": "f69d0143db15039426d3f6c96150b379556a801edcb61afe066fb0251c6bfa9a"
   }
  }
 },
 "nbformat": 4,
 "nbformat_minor": 2
}
