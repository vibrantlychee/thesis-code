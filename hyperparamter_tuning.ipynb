{
 "cells": [
  {
   "cell_type": "markdown",
   "metadata": {},
   "source": [
    "# Reservoir Dynamics\n",
    "$t$ is understood to be a discrete time step. \n",
    "\n",
    "Suppose a signal $\\mathbf{u}(t) \\in \\reals^D$. \n",
    "\n",
    "Suppose a reservoir state $\\mathbf{r}(t) \\in \\reals^R$. We also require that \n",
    "$d | N$. \n",
    "\n",
    "The initial reservoir state is \n",
    "$$\n",
    "    \\mathbf{r}(0) = W_{\\text{in}} \\mathbf{u}(0).\n",
    "$$\n",
    "\n",
    "The reservoir dynamics in the training stage are:\n",
    "$$\n",
    "    \\mathbf{r}(t+1) = (1 - \\alpha) \\mathbf{r}(t) + \\alpha \\tanh(A \\mathbf{r}(t) + W_{\\text{in}} \\mathbf{u}(t))\n",
    "$$\n",
    "where the hyperparameter $\\alpha$ is known as the leakage rate. Set $\\alpha = 1$\n",
    "to reduce the number of hyperparameters that need to be optimised. \n",
    "\n",
    "# Reservoir Internals\n",
    "### Adjacency matrix ($A$)\n",
    "$A$ is known as the **internal connection network**, also the rotation matrix,\n",
    "or adjacency matrix. Describes which nodes at a particular state of the \n",
    "reservoir will communicate with each other. \n",
    "\n",
    "$A$ has shape $R \\times R$. Initialise $A$ with zeros.  \n",
    "\n",
    "$A$ is also required to be sparse. We define sparseness as the degree each node \n",
    "in the network. Let $k$ denote the sparseness. Then we fix the in-degree of \n",
    "each node to be exactly $k$. That is, if the $(i, j)$-th element of $A$ \n",
    "represents the weight of the edge going from node $j$ into node $i$, then we \n",
    "uniformly and randomly choose $k$ positions without replacement in each row to have the value one. \n",
    "Again, to avoid increasing the number of hyperparameters, we use \n",
    "$k = \\text{int}(0.05 \\times R)$, where recall $N$ is the number of nodes in the \n",
    "reservoir. \n",
    "\n",
    "The nonzero elements of $A$ are then scaled Uniform(0, 1). Then $A$ is scaled so that \n",
    "its spectral radius is less than or equal to $\\rho$. Spectral radius is defined \n",
    "as the largest absolute eigenvalue. This quantity is also the spectral radius \n",
    "of the reservoir. \n",
    "\n",
    "Now it is very likely for $A$ to satisfy the echo state property. \n",
    "\n",
    "### External input connection matrix ($W_{\\text{in}}$)\n",
    "$W_{\\text{in}}$ is known as the **external input connection network**. Describes \n",
    "which parts of the input signal will be connected to the current reservoir state. \n",
    "\n",
    "$W_{\\text{in}}$ has shape $R \\times D$. \n",
    "\n",
    "$W_{\\text{in}}$ is initiated with all zeros. Draw a random permutation of the \n",
    "integers $1,\\dots,R$. Divide this permutation in order into $\\frac{R}{D}$ \n",
    "groups, each of size $D$. For group $i$, $i = 1,\\dots,\\frac{R}{D}$, fill in \n",
    "column $i$ of $W_{\\text{in}}$ with 1's in the positions described in group \n",
    "$i$. \n",
    "\n",
    "For example, suppose $R = 6$ and $D = 3$, and a permutation is $142536$. Clearly \n",
    "the groups, in order, are $\\{1, 4\\}$, $\\{2, 5\\}$, $\\{3, 6\\}$. Then form \n",
    "$W_{\\text{in}}$ as:\n",
    "$$\n",
    "\\begin{bmatrix}\n",
    "1 &0 &0 \\\\\n",
    "0 &1 &0 \\\\\n",
    "0 &0 &1 \\\\\n",
    "1 &0 &0 \\\\\n",
    "0 &1 &0 \\\\\n",
    "0 &0 &1\n",
    "\\end{bmatrix}\n",
    "$$\n",
    "Because $D | R$, we should only have one nonzero element in each row, and \n",
    "exactly $\\frac{R}{D}$ nonelements in each column. This represents the idea that \n",
    "every network receives exactly one scalar input from $\\mathbf{u}(t)$, while \n",
    "each scalar input $\\mathbf{u}(t)$ is connected to exactly $\\frac{R}{R}$ nodes \n",
    "in the network. \n",
    "\n",
    "Finally, scale the nonzero elements of $W_{\\text{in}}$ by a weight chosen \n",
    "randomly from Uniform(-$\\sigma$, $\\sigma$). \n",
    "\n",
    "\n",
    "# Summary of Hyperparameters\n",
    "- $\\alpha$, the leakage rate. Set to $\\alpha = 1$ for project. \n",
    "- "
   ]
  },
  {
   "cell_type": "code",
   "execution_count": 1,
   "metadata": {},
   "outputs": [],
   "source": [
    "import numpy as np\n",
    "import pandas as pd\n",
    "from hyperopt import fmin, tpe, hp, Trials, STATUS_OK\n",
    "\n",
    "import matplotlib.pyplot as plt\n",
    "plt.rcParams[\"figure.facecolor\"] = \"white\"\n",
    "\n",
    "from data import data, acf\n",
    "from reservoir import reservoir as res\n",
    "from error import error"
   ]
  },
  {
   "cell_type": "code",
   "execution_count": 2,
   "metadata": {},
   "outputs": [],
   "source": [
    "hyperparams = {\n",
    "    \"RHO\": 0.6,\n",
    "    \"SIGMA\": 1.0,\n",
    "    \"R\": 1200,\n",
    "    \"EPSILON\": 10e-4\n",
    "}\n",
    "state = np.random.RandomState(42)"
   ]
  },
  {
   "cell_type": "code",
   "execution_count": 3,
   "metadata": {},
   "outputs": [],
   "source": [
    "training_data = data.generate_lorenz_63()\n",
    "\n",
    "training_res, A, W_in = res.generate_training_reservoir(\n",
    "    u=training_data,\n",
    "    hyperparams=hyperparams,\n",
    "    state=state\n",
    ")"
   ]
  },
  {
   "cell_type": "code",
   "execution_count": 4,
   "metadata": {},
   "outputs": [
    {
     "data": {
      "text/plain": [
       "array([[  6.25566666,   1.79926352, -23.30982937, ...,   0.12065464,\n",
       "          0.74169068,  -2.56741671],\n",
       "       [  0.99999693,   0.9984295 ,  -1.        , ...,   0.51117823,\n",
       "          0.9437284 ,  -0.9972732 ],\n",
       "       [  0.99998459,   0.95615677,  -1.        , ...,   0.25404717,\n",
       "          0.73689614,  -0.99508068],\n",
       "       ...,\n",
       "       [  0.9999997 ,  -0.99989384,  -1.        , ...,  -0.44454721,\n",
       "         -0.96919955,   1.        ],\n",
       "       [  0.99999992,  -0.99992146,  -1.        , ...,  -0.41071779,\n",
       "         -0.97276433,   0.99999999],\n",
       "       [  0.99999997,  -0.99992322,  -1.        , ...,  -0.35911407,\n",
       "         -0.97303517,   0.99999992]])"
      ]
     },
     "execution_count": 4,
     "metadata": {},
     "output_type": "execute_result"
    }
   ],
   "source": [
    "training_res"
   ]
  },
  {
   "cell_type": "code",
   "execution_count": 5,
   "metadata": {},
   "outputs": [],
   "source": [
    "W_out = res.generate_W_out(training_data, training_res, hyperparams)"
   ]
  },
  {
   "cell_type": "code",
   "execution_count": 6,
   "metadata": {},
   "outputs": [],
   "source": [
    "def output_node(W_out, node):\n",
    "    return np.dot(W_out, node)\n",
    "\n",
    "def output_series(W_out, res):\n",
    "    n = res.shape[0]\n",
    "    D = W_out.shape[0]\n",
    "    preds = np.zeros((n, D))\n",
    "    for i in range(n):\n",
    "        preds[i] = output_node(W_out, res[i])\n",
    "\n",
    "    return preds"
   ]
  },
  {
   "cell_type": "code",
   "execution_count": 7,
   "metadata": {},
   "outputs": [],
   "source": [
    "preds = output_series(W_out, training_res)"
   ]
  },
  {
   "cell_type": "code",
   "execution_count": 8,
   "metadata": {},
   "outputs": [
    {
     "data": {
      "text/plain": [
       "array([[-4.79865242, -3.87775913, 24.22289615],\n",
       "       [-4.66033474, -4.1960329 , 23.33525642],\n",
       "       [-4.6146263 , -4.58600518, 22.51521886],\n",
       "       ...,\n",
       "       [13.41319503, 16.24457658, 30.30919385],\n",
       "       [13.82008895, 14.92778307, 32.90179102],\n",
       "       [13.84850969, 12.97768205, 34.96421297]])"
      ]
     },
     "execution_count": 8,
     "metadata": {},
     "output_type": "execute_result"
    }
   ],
   "source": [
    "preds"
   ]
  },
  {
   "cell_type": "code",
   "execution_count": 9,
   "metadata": {},
   "outputs": [
    {
     "data": {
      "text/plain": [
       "array([[-4.79865193, -3.87775884, 24.22289184],\n",
       "       [-4.66044538, -4.19640537, 23.33475869],\n",
       "       [-4.61119757, -4.57935812, 22.51723171],\n",
       "       ...,\n",
       "       [13.38843314, 16.23068466, 30.28483274],\n",
       "       [13.79316077, 14.93328438, 32.86134879],\n",
       "       [13.82727652, 13.00365668, 34.93243311]])"
      ]
     },
     "execution_count": 9,
     "metadata": {},
     "output_type": "execute_result"
    }
   ],
   "source": [
    "training_data"
   ]
  },
  {
   "cell_type": "code",
   "execution_count": 10,
   "metadata": {},
   "outputs": [
    {
     "data": {
      "text/plain": [
       "[<matplotlib.lines.Line2D at 0x15effd870>]"
      ]
     },
     "execution_count": 10,
     "metadata": {},
     "output_type": "execute_result"
    },
    {
     "data": {
      "image/png": "[encoded data removed]",
      "text/plain": [
       "<Figure size 432x288 with 1 Axes>"
      ]
     },
     "metadata": {},
     "output_type": "display_data"
    }
   ],
   "source": [
    "plt.plot(training_data[:, 0])\n",
    "plt.plot(preds[:, 0])"
   ]
  },
  {
   "cell_type": "code",
   "execution_count": 11,
   "metadata": {},
   "outputs": [
    {
     "data": {
      "text/plain": [
       "array([0.00843867, 0.01121482, 0.02374027])"
      ]
     },
     "execution_count": 11,
     "metadata": {},
     "output_type": "execute_result"
    }
   ],
   "source": [
    "error.RMSE(training_data, preds)"
   ]
  },
  {
   "cell_type": "code",
   "execution_count": 12,
   "metadata": {},
   "outputs": [],
   "source": [
    "forecast_data = data.generate_lorenz_63(initial_state=[2,2,2])\n",
    "forecast_res = res.generate_forecast_res(\n",
    "    u=forecast_data,\n",
    "    hyperparams=hyperparams,\n",
    "    A=A,\n",
    "    W_in=W_in,\n",
    "    W_out=W_out\n",
    ")\n",
    "forecast_preds = res.output_series(W_out, forecast_res)"
   ]
  },
  {
   "cell_type": "code",
   "execution_count": 13,
   "metadata": {},
   "outputs": [
    {
     "data": {
      "text/plain": [
       "array([[-11.02689059,  -4.38007632,  36.52715775],\n",
       "       [ -9.6519937 ,  -2.65874059,  35.33147914],\n",
       "       [ -8.26092869,  -1.43111617,  33.84632604],\n",
       "       ...,\n",
       "       [-14.20046436,  -6.67932315,  41.01818336],\n",
       "       [-12.49709781,  -3.18371304,  40.16098875],\n",
       "       [-10.54400848,  -0.5177164 ,  38.47810159]])"
      ]
     },
     "execution_count": 13,
     "metadata": {},
     "output_type": "execute_result"
    }
   ],
   "source": [
    "forecast_data"
   ]
  },
  {
   "cell_type": "code",
   "execution_count": 14,
   "metadata": {},
   "outputs": [
    {
     "data": {
      "text/plain": [
       "array([[   9.86434993,  -16.45912031, -221.48438394],\n",
       "       [   9.51175672,    0.65280607,  -62.10044009],\n",
       "       [   9.5246401 ,   -0.32378267,  -42.94069407],\n",
       "       ...,\n",
       "       [  23.92915907,  -27.23384207,   60.759756  ],\n",
       "       [  23.92915907,  -27.23384207,   60.759756  ],\n",
       "       [  23.92915907,  -27.23384207,   60.759756  ]])"
      ]
     },
     "execution_count": 14,
     "metadata": {},
     "output_type": "execute_result"
    }
   ],
   "source": [
    "forecast_preds"
   ]
  },
  {
   "cell_type": "code",
   "execution_count": 15,
   "metadata": {},
   "outputs": [
    {
     "name": "stdout",
     "output_type": "stream",
     "text": [
      "[23.49266775 29.69248116 40.44576148]\n",
      "40.44576147518769\n",
      "55.40224270333158\n"
     ]
    }
   ],
   "source": [
    "print(error.RMSE(forecast_data, forecast_preds))\n",
    "print(max(error.RMSE(forecast_data, forecast_preds)))\n",
    "print(np.linalg.norm(error.RMSE(forecast_data, forecast_preds)))"
   ]
  },
  {
   "cell_type": "code",
   "execution_count": 16,
   "metadata": {},
   "outputs": [
    {
     "data": {
      "text/plain": [
       "[<matplotlib.lines.Line2D at 0x16286ca90>]"
      ]
     },
     "execution_count": 16,
     "metadata": {},
     "output_type": "execute_result"
    },
    {
     "data": {
      "image/png": "[encoded data removed]",
      "text/plain": [
       "<Figure size 432x288 with 1 Axes>"
      ]
     },
     "metadata": {},
     "output_type": "display_data"
    }
   ],
   "source": [
    "plt.plot(forecast_data[:, 0])\n",
    "plt.plot(forecast_preds[:, 0])\n"
   ]
  },
  {
   "cell_type": "code",
   "execution_count": 17,
   "metadata": {},
   "outputs": [],
   "source": [
    "hyperparams = {\n",
    "    \"RHO\": 0.6,\n",
    "    \"SIGMA\": 1.0,\n",
    "    \"R\": 300,\n",
    "    \"EPSILON\": 10e-4\n",
    "}\n",
    "RHO_RANGE = np.linspace(0.1, 0.7)\n",
    "SIGMA_RANGE = np.linspace(0.5, 1.5)\n",
    "R_RANGE = range(300, 900, 3)\n",
    "EPSILON_RANGE = [0.01, 0.02]\n",
    "\n",
    "def find_start_and_end(range):\n",
    "    return range[0], range[-1]\n",
    "def generate_search_space(rho_range=RHO_RANGE, sigma_range=SIGMA_RANGE, R_range=R_RANGE, epsilon_range=EPSILON_RANGE) -> list:\n",
    "    rho_start, rho_end = find_start_and_end(rho_range)\n",
    "    sigma_start, sigma_end = find_start_and_end(sigma_range)\n",
    "    # epsilon_start, epsilon_end = find_start_and_end(epsilon_range)\n",
    "\n",
    "    return [\n",
    "        hp.uniform('rho', rho_start, rho_end),\n",
    "        hp.uniform('sigma', sigma_start, sigma_end)\n",
    "        # hp.choice('R', options=list(R_range)),\n",
    "        # hp.uniform('epsilon', epsilon_start, epsilon_end)\n",
    "    ]"
   ]
  },
  {
   "cell_type": "code",
   "execution_count": 18,
   "metadata": {},
   "outputs": [
    {
     "name": "stdout",
     "output_type": "stream",
     "text": [
      " 39%|███▉      | 39/100 [00:56<01:29,  1.46s/trial, best loss: 28.36090807819658]\n"
     ]
    },
    {
     "ename": "KeyboardInterrupt",
     "evalue": "",
     "output_type": "error",
     "traceback": [
      "\u001b[0;31m---------------------------------------------------------------------------\u001b[0m",
      "\u001b[0;31mKeyboardInterrupt\u001b[0m                         Traceback (most recent call last)",
      "\u001b[1;32m/Users/leoli/Desktop/uni/Honours/thesis-code/hyperparamter_tuning.ipynb Cell 19\u001b[0m in \u001b[0;36m<module>\u001b[0;34m\u001b[0m\n\u001b[1;32m     <a href='vscode-notebook-cell:/Users/leoli/Desktop/uni/Honours/thesis-code/hyperparamter_tuning.ipynb#ch0000040?line=28'>29</a>\u001b[0m     preds \u001b[39m=\u001b[39m res\u001b[39m.\u001b[39moutput_series(W_out, forecast_res)\n\u001b[1;32m     <a href='vscode-notebook-cell:/Users/leoli/Desktop/uni/Honours/thesis-code/hyperparamter_tuning.ipynb#ch0000040?line=30'>31</a>\u001b[0m     \u001b[39mreturn\u001b[39;00m np\u001b[39m.\u001b[39mlinalg\u001b[39m.\u001b[39mnorm(error\u001b[39m.\u001b[39mRMSE(forecast_data, preds))\n\u001b[0;32m---> <a href='vscode-notebook-cell:/Users/leoli/Desktop/uni/Honours/thesis-code/hyperparamter_tuning.ipynb#ch0000040?line=32'>33</a>\u001b[0m best \u001b[39m=\u001b[39m fmin(\n\u001b[1;32m     <a href='vscode-notebook-cell:/Users/leoli/Desktop/uni/Honours/thesis-code/hyperparamter_tuning.ipynb#ch0000040?line=33'>34</a>\u001b[0m     fn\u001b[39m=\u001b[39;49mobjective,\n\u001b[1;32m     <a href='vscode-notebook-cell:/Users/leoli/Desktop/uni/Honours/thesis-code/hyperparamter_tuning.ipynb#ch0000040?line=34'>35</a>\u001b[0m     space\u001b[39m=\u001b[39;49mgenerate_search_space(),\n\u001b[1;32m     <a href='vscode-notebook-cell:/Users/leoli/Desktop/uni/Honours/thesis-code/hyperparamter_tuning.ipynb#ch0000040?line=35'>36</a>\u001b[0m     algo\u001b[39m=\u001b[39;49mtpe\u001b[39m.\u001b[39;49msuggest,\n\u001b[1;32m     <a href='vscode-notebook-cell:/Users/leoli/Desktop/uni/Honours/thesis-code/hyperparamter_tuning.ipynb#ch0000040?line=36'>37</a>\u001b[0m     max_evals\u001b[39m=\u001b[39;49m\u001b[39m100\u001b[39;49m\n\u001b[1;32m     <a href='vscode-notebook-cell:/Users/leoli/Desktop/uni/Honours/thesis-code/hyperparamter_tuning.ipynb#ch0000040?line=37'>38</a>\u001b[0m )\n\u001b[1;32m     <a href='vscode-notebook-cell:/Users/leoli/Desktop/uni/Honours/thesis-code/hyperparamter_tuning.ipynb#ch0000040?line=38'>39</a>\u001b[0m \u001b[39mprint\u001b[39m(best)\n",
      "File \u001b[0;32m~/Desktop/uni/Honours/thesis-code/.env/lib/python3.10/site-packages/hyperopt/fmin.py:586\u001b[0m, in \u001b[0;36mfmin\u001b[0;34m(fn, space, algo, max_evals, timeout, loss_threshold, trials, rstate, allow_trials_fmin, pass_expr_memo_ctrl, catch_eval_exceptions, verbose, return_argmin, points_to_evaluate, max_queue_len, show_progressbar, early_stop_fn, trials_save_file)\u001b[0m\n\u001b[1;32m    583\u001b[0m rval\u001b[39m.\u001b[39mcatch_eval_exceptions \u001b[39m=\u001b[39m catch_eval_exceptions\n\u001b[1;32m    585\u001b[0m \u001b[39m# next line is where the fmin is actually executed\u001b[39;00m\n\u001b[0;32m--> 586\u001b[0m rval\u001b[39m.\u001b[39;49mexhaust()\n\u001b[1;32m    588\u001b[0m \u001b[39mif\u001b[39;00m return_argmin:\n\u001b[1;32m    589\u001b[0m     \u001b[39mif\u001b[39;00m \u001b[39mlen\u001b[39m(trials\u001b[39m.\u001b[39mtrials) \u001b[39m==\u001b[39m \u001b[39m0\u001b[39m:\n",
      "File \u001b[0;32m~/Desktop/uni/Honours/thesis-code/.env/lib/python3.10/site-packages/hyperopt/fmin.py:364\u001b[0m, in \u001b[0;36mFMinIter.exhaust\u001b[0;34m(self)\u001b[0m\n\u001b[1;32m    362\u001b[0m \u001b[39mdef\u001b[39;00m \u001b[39mexhaust\u001b[39m(\u001b[39mself\u001b[39m):\n\u001b[1;32m    363\u001b[0m     n_done \u001b[39m=\u001b[39m \u001b[39mlen\u001b[39m(\u001b[39mself\u001b[39m\u001b[39m.\u001b[39mtrials)\n\u001b[0;32m--> 364\u001b[0m     \u001b[39mself\u001b[39;49m\u001b[39m.\u001b[39;49mrun(\u001b[39mself\u001b[39;49m\u001b[39m.\u001b[39;49mmax_evals \u001b[39m-\u001b[39;49m n_done, block_until_done\u001b[39m=\u001b[39;49m\u001b[39mself\u001b[39;49m\u001b[39m.\u001b[39;49masynchronous)\n\u001b[1;32m    365\u001b[0m     \u001b[39mself\u001b[39m\u001b[39m.\u001b[39mtrials\u001b[39m.\u001b[39mrefresh()\n\u001b[1;32m    366\u001b[0m     \u001b[39mreturn\u001b[39;00m \u001b[39mself\u001b[39m\n",
      "File \u001b[0;32m~/Desktop/uni/Honours/thesis-code/.env/lib/python3.10/site-packages/hyperopt/fmin.py:300\u001b[0m, in \u001b[0;36mFMinIter.run\u001b[0;34m(self, N, block_until_done)\u001b[0m\n\u001b[1;32m    297\u001b[0m     time\u001b[39m.\u001b[39msleep(\u001b[39mself\u001b[39m\u001b[39m.\u001b[39mpoll_interval_secs)\n\u001b[1;32m    298\u001b[0m \u001b[39melse\u001b[39;00m:\n\u001b[1;32m    299\u001b[0m     \u001b[39m# -- loop over trials and do the jobs directly\u001b[39;00m\n\u001b[0;32m--> 300\u001b[0m     \u001b[39mself\u001b[39;49m\u001b[39m.\u001b[39;49mserial_evaluate()\n\u001b[1;32m    302\u001b[0m \u001b[39mself\u001b[39m\u001b[39m.\u001b[39mtrials\u001b[39m.\u001b[39mrefresh()\n\u001b[1;32m    303\u001b[0m \u001b[39mif\u001b[39;00m \u001b[39mself\u001b[39m\u001b[39m.\u001b[39mtrials_save_file \u001b[39m!=\u001b[39m \u001b[39m\"\u001b[39m\u001b[39m\"\u001b[39m:\n",
      "File \u001b[0;32m~/Desktop/uni/Honours/thesis-code/.env/lib/python3.10/site-packages/hyperopt/fmin.py:178\u001b[0m, in \u001b[0;36mFMinIter.serial_evaluate\u001b[0;34m(self, N)\u001b[0m\n\u001b[1;32m    176\u001b[0m ctrl \u001b[39m=\u001b[39m base\u001b[39m.\u001b[39mCtrl(\u001b[39mself\u001b[39m\u001b[39m.\u001b[39mtrials, current_trial\u001b[39m=\u001b[39mtrial)\n\u001b[1;32m    177\u001b[0m \u001b[39mtry\u001b[39;00m:\n\u001b[0;32m--> 178\u001b[0m     result \u001b[39m=\u001b[39m \u001b[39mself\u001b[39;49m\u001b[39m.\u001b[39;49mdomain\u001b[39m.\u001b[39;49mevaluate(spec, ctrl)\n\u001b[1;32m    179\u001b[0m \u001b[39mexcept\u001b[39;00m \u001b[39mException\u001b[39;00m \u001b[39mas\u001b[39;00m e:\n\u001b[1;32m    180\u001b[0m     logger\u001b[39m.\u001b[39merror(\u001b[39m\"\u001b[39m\u001b[39mjob exception: \u001b[39m\u001b[39m%s\u001b[39;00m\u001b[39m\"\u001b[39m \u001b[39m%\u001b[39m \u001b[39mstr\u001b[39m(e))\n",
      "File \u001b[0;32m~/Desktop/uni/Honours/thesis-code/.env/lib/python3.10/site-packages/hyperopt/base.py:892\u001b[0m, in \u001b[0;36mDomain.evaluate\u001b[0;34m(self, config, ctrl, attach_attachments)\u001b[0m\n\u001b[1;32m    883\u001b[0m \u001b[39melse\u001b[39;00m:\n\u001b[1;32m    884\u001b[0m     \u001b[39m# -- the \"work\" of evaluating `config` can be written\u001b[39;00m\n\u001b[1;32m    885\u001b[0m     \u001b[39m#    either into the pyll part (self.expr)\u001b[39;00m\n\u001b[1;32m    886\u001b[0m     \u001b[39m#    or the normal Python part (self.fn)\u001b[39;00m\n\u001b[1;32m    887\u001b[0m     pyll_rval \u001b[39m=\u001b[39m pyll\u001b[39m.\u001b[39mrec_eval(\n\u001b[1;32m    888\u001b[0m         \u001b[39mself\u001b[39m\u001b[39m.\u001b[39mexpr,\n\u001b[1;32m    889\u001b[0m         memo\u001b[39m=\u001b[39mmemo,\n\u001b[1;32m    890\u001b[0m         print_node_on_error\u001b[39m=\u001b[39m\u001b[39mself\u001b[39m\u001b[39m.\u001b[39mrec_eval_print_node_on_error,\n\u001b[1;32m    891\u001b[0m     )\n\u001b[0;32m--> 892\u001b[0m     rval \u001b[39m=\u001b[39m \u001b[39mself\u001b[39;49m\u001b[39m.\u001b[39;49mfn(pyll_rval)\n\u001b[1;32m    894\u001b[0m \u001b[39mif\u001b[39;00m \u001b[39misinstance\u001b[39m(rval, (\u001b[39mfloat\u001b[39m, \u001b[39mint\u001b[39m, np\u001b[39m.\u001b[39mnumber)):\n\u001b[1;32m    895\u001b[0m     dict_rval \u001b[39m=\u001b[39m {\u001b[39m\"\u001b[39m\u001b[39mloss\u001b[39m\u001b[39m\"\u001b[39m: \u001b[39mfloat\u001b[39m(rval), \u001b[39m\"\u001b[39m\u001b[39mstatus\u001b[39m\u001b[39m\"\u001b[39m: STATUS_OK}\n",
      "\u001b[1;32m/Users/leoli/Desktop/uni/Honours/thesis-code/hyperparamter_tuning.ipynb Cell 19\u001b[0m in \u001b[0;36mobjective\u001b[0;34m(hyperparams)\u001b[0m\n\u001b[1;32m     <a href='vscode-notebook-cell:/Users/leoli/Desktop/uni/Honours/thesis-code/hyperparamter_tuning.ipynb#ch0000040?line=16'>17</a>\u001b[0m \u001b[39m# W_out\u001b[39;00m\n\u001b[1;32m     <a href='vscode-notebook-cell:/Users/leoli/Desktop/uni/Honours/thesis-code/hyperparamter_tuning.ipynb#ch0000040?line=17'>18</a>\u001b[0m W_out \u001b[39m=\u001b[39m res\u001b[39m.\u001b[39mgenerate_W_out(training_data, training_res, hyperparams)\n\u001b[0;32m---> <a href='vscode-notebook-cell:/Users/leoli/Desktop/uni/Honours/thesis-code/hyperparamter_tuning.ipynb#ch0000040?line=20'>21</a>\u001b[0m forecast_res \u001b[39m=\u001b[39m res\u001b[39m.\u001b[39;49mgenerate_forecast_res(\n\u001b[1;32m     <a href='vscode-notebook-cell:/Users/leoli/Desktop/uni/Honours/thesis-code/hyperparamter_tuning.ipynb#ch0000040?line=21'>22</a>\u001b[0m     u\u001b[39m=\u001b[39;49mforecast_data,\n\u001b[1;32m     <a href='vscode-notebook-cell:/Users/leoli/Desktop/uni/Honours/thesis-code/hyperparamter_tuning.ipynb#ch0000040?line=22'>23</a>\u001b[0m     hyperparams\u001b[39m=\u001b[39;49mhyperparams,\n\u001b[1;32m     <a href='vscode-notebook-cell:/Users/leoli/Desktop/uni/Honours/thesis-code/hyperparamter_tuning.ipynb#ch0000040?line=23'>24</a>\u001b[0m     A\u001b[39m=\u001b[39;49mA,\n\u001b[1;32m     <a href='vscode-notebook-cell:/Users/leoli/Desktop/uni/Honours/thesis-code/hyperparamter_tuning.ipynb#ch0000040?line=24'>25</a>\u001b[0m     W_in\u001b[39m=\u001b[39;49mW_in,\n\u001b[1;32m     <a href='vscode-notebook-cell:/Users/leoli/Desktop/uni/Honours/thesis-code/hyperparamter_tuning.ipynb#ch0000040?line=25'>26</a>\u001b[0m     W_out\u001b[39m=\u001b[39;49mW_out\n\u001b[1;32m     <a href='vscode-notebook-cell:/Users/leoli/Desktop/uni/Honours/thesis-code/hyperparamter_tuning.ipynb#ch0000040?line=26'>27</a>\u001b[0m )\n\u001b[1;32m     <a href='vscode-notebook-cell:/Users/leoli/Desktop/uni/Honours/thesis-code/hyperparamter_tuning.ipynb#ch0000040?line=28'>29</a>\u001b[0m preds \u001b[39m=\u001b[39m res\u001b[39m.\u001b[39moutput_series(W_out, forecast_res)\n\u001b[1;32m     <a href='vscode-notebook-cell:/Users/leoli/Desktop/uni/Honours/thesis-code/hyperparamter_tuning.ipynb#ch0000040?line=30'>31</a>\u001b[0m \u001b[39mreturn\u001b[39;00m np\u001b[39m.\u001b[39mlinalg\u001b[39m.\u001b[39mnorm(error\u001b[39m.\u001b[39mRMSE(forecast_data, preds))\n",
      "File \u001b[0;32m~/Desktop/uni/Honours/thesis-code/reservoir/reservoir.py:182\u001b[0m, in \u001b[0;36mgenerate_forecast_res\u001b[0;34m(u, hyperparams, A, W_in, W_out, alpha)\u001b[0m\n\u001b[1;32m    179\u001b[0m     \u001b[39mif\u001b[39;00m i \u001b[39m==\u001b[39m \u001b[39m0\u001b[39m:\n\u001b[1;32m    180\u001b[0m         \u001b[39mcontinue\u001b[39;00m\n\u001b[0;32m--> 182\u001b[0m     res[i] \u001b[39m=\u001b[39m next_training_res(\n\u001b[1;32m    183\u001b[0m         r_prev\u001b[39m=\u001b[39;49mres[i\u001b[39m-\u001b[39;49m\u001b[39m1\u001b[39;49m],\n\u001b[1;32m    184\u001b[0m         u_in\u001b[39m=\u001b[39;49mnp\u001b[39m.\u001b[39;49mdot(W_out, res[i\u001b[39m-\u001b[39;49m\u001b[39m1\u001b[39;49m]),\n\u001b[1;32m    185\u001b[0m         A\u001b[39m=\u001b[39;49mA,\n\u001b[1;32m    186\u001b[0m         W_in\u001b[39m=\u001b[39;49mW_in,\n\u001b[1;32m    187\u001b[0m         alpha\u001b[39m=\u001b[39;49malpha\n\u001b[1;32m    188\u001b[0m     )\n\u001b[1;32m    190\u001b[0m \u001b[39mreturn\u001b[39;00m res\n",
      "File \u001b[0;32m~/Desktop/uni/Honours/thesis-code/reservoir/reservoir.py:108\u001b[0m, in \u001b[0;36mnext_training_res\u001b[0;34m(r_prev, u_in, A, W_in, alpha)\u001b[0m\n\u001b[1;32m     95\u001b[0m \u001b[39mdef\u001b[39;00m \u001b[39mnext_training_res\u001b[39m(r_prev, u_in, A, W_in, alpha):\n\u001b[1;32m     96\u001b[0m     \u001b[39m'''\u001b[39;00m\n\u001b[1;32m     97\u001b[0m \u001b[39m    Given the previous reservoir state, rotation and weight matrices, and \u001b[39;00m\n\u001b[1;32m     98\u001b[0m \u001b[39m    hyperparameters, generates the next reservoir state. \u001b[39;00m\n\u001b[0;32m   (...)\u001b[0m\n\u001b[1;32m    105\u001b[0m \u001b[39m    OUTPUTS:    (np.array) next reservoir state of shape (R, 1)\u001b[39;00m\n\u001b[1;32m    106\u001b[0m \u001b[39m    '''\u001b[39;00m\n\u001b[1;32m    107\u001b[0m     \u001b[39mreturn\u001b[39;00m (\u001b[39m1\u001b[39m \u001b[39m-\u001b[39m ALPHA) \u001b[39m*\u001b[39m r_prev \u001b[39m+\u001b[39m ALPHA \u001b[39m*\u001b[39m np\u001b[39m.\u001b[39mtanh(\n\u001b[0;32m--> 108\u001b[0m         np\u001b[39m.\u001b[39;49mdot(A, r_prev) \u001b[39m+\u001b[39m np\u001b[39m.\u001b[39mdot(W_in, u_in)\n\u001b[1;32m    109\u001b[0m     )\n",
      "File \u001b[0;32m<__array_function__ internals>:5\u001b[0m, in \u001b[0;36mdot\u001b[0;34m(*args, **kwargs)\u001b[0m\n",
      "\u001b[0;31mKeyboardInterrupt\u001b[0m: "
     ]
    }
   ],
   "source": [
    "def objective(hyperparams: list) -> float:\n",
    "    hyperparams = {\n",
    "        \"RHO\": hyperparams[0],\n",
    "        \"SIGMA\": hyperparams[1],\n",
    "    }\n",
    "\n",
    "    hyperparams[\"R\"] = 900\n",
    "    hyperparams[\"EPSILON\"] = 10e-4\n",
    "    \n",
    "    # training reservoir\n",
    "    training_res, A, W_in = res.generate_training_reservoir(\n",
    "        u=training_data,\n",
    "        hyperparams=hyperparams,\n",
    "        state=state\n",
    "    )\n",
    "    \n",
    "    # W_out\n",
    "    W_out = res.generate_W_out(training_data, training_res, hyperparams)\n",
    "\n",
    "\n",
    "    forecast_res = res.generate_forecast_res(\n",
    "        u=forecast_data,\n",
    "        hyperparams=hyperparams,\n",
    "        A=A,\n",
    "        W_in=W_in,\n",
    "        W_out=W_out\n",
    "    )\n",
    "\n",
    "    preds = res.output_series(W_out, forecast_res)\n",
    "\n",
    "    return np.linalg.norm(error.RMSE(forecast_data, preds))\n",
    "\n",
    "best = fmin(\n",
    "    fn=objective,\n",
    "    space=generate_search_space(),\n",
    "    algo=tpe.suggest,\n",
    "    max_evals=100\n",
    ")\n",
    "print(best)"
   ]
  }
 ],
 "metadata": {
  "kernelspec": {
   "display_name": "Python 3.10.2 ('.env': venv)",
   "language": "python",
   "name": "python3"
  },
  "language_info": {
   "codemirror_mode": {
    "name": "ipython",
    "version": 3
   },
   "file_extension": ".py",
   "mimetype": "text/x-python",
   "name": "python",
   "nbconvert_exporter": "python",
   "pygments_lexer": "ipython3",
   "version": "3.10.2"
  },
  "orig_nbformat": 4,
  "vscode": {
   "interpreter": {
    "hash": "f69d0143db15039426d3f6c96150b379556a801edcb61afe066fb0251c6bfa9a"
   }
  }
 },
 "nbformat": 4,
 "nbformat_minor": 2
}
