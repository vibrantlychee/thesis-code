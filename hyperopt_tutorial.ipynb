{
 "cells": [
  {
   "cell_type": "code",
   "execution_count": 16,
   "metadata": {},
   "outputs": [],
   "source": [
    "from hyperopt import fmin, tpe, hp, STATUS_OK, Trials\n",
    "import pandas as pd\n",
    "import numpy as np \n",
    "import matplotlib.pyplot as plt\n",
    "plt.rcParams['figure.facecolor'] = \"white\""
   ]
  },
  {
   "cell_type": "markdown",
   "metadata": {},
   "source": [
    "# Tips and Tricks\n",
    "\n",
    "1. Objective function can be multivariable, but must be scalar-valued, i.e. \n",
    "$f: \\reals^n \\to \\reals$. \n",
    "2. Define the multivariable function as:\n",
    "```\n",
    "def objective(x: list): \n",
    "    x = np.array(x) \n",
    "    pass \n",
    "```\n",
    "since the `space` parameter in `fmin` requires a single list input.\n",
    "\n",
    "3. A tighter bound on the parameters around the true minimum will obviously \n",
    "yield better results. \n",
    "4. Perform many trials (e.g. $n=10000$) to form a distribution of parameters. "
   ]
  },
  {
   "cell_type": "markdown",
   "metadata": {},
   "source": [
    "# Single variable\n",
    "Minimise $f(x) = x^2$ over the domain $x \\in [-10, 10]$. "
   ]
  },
  {
   "cell_type": "code",
   "execution_count": 9,
   "metadata": {},
   "outputs": [
    {
     "name": "stdout",
     "output_type": "stream",
     "text": [
      "100%|██████████| 500/500 [00:00<00:00, 712.16trial/s, best loss: 1.2379997510292841e-05] \n",
      "{'x': 0.0035185220633517193}\n"
     ]
    }
   ],
   "source": [
    "def parabola(x):\n",
    "    \"\"\"\n",
    "    A parabola.\n",
    "    \"\"\"\n",
    "    return x ** 2\n",
    "\n",
    "best = fmin(\n",
    "    fn=parabola,\n",
    "    space=hp.uniform('x', -10, 10),\n",
    "    algo=tpe.suggest,\n",
    "    max_evals=500\n",
    ")\n",
    "print(best)"
   ]
  },
  {
   "cell_type": "markdown",
   "metadata": {},
   "source": [
    "# Multi-variable\n",
    "Minimise $f(\\mathbf{x}) = x^2 + y^2$, where $\\mathbf{x} = (x, y) \\in \\reals^2$. "
   ]
  },
  {
   "cell_type": "code",
   "execution_count": 38,
   "metadata": {},
   "outputs": [
    {
     "name": "stdout",
     "output_type": "stream",
     "text": [
      "100%|██████████| 1000/1000 [00:03<00:00, 313.40trial/s, best loss: 1.9583566081232086e-05]\n",
      "{'x': 0.00024240338198594155, 'y': 0.0044186883440262975}\n"
     ]
    }
   ],
   "source": [
    "def sphere(x: list):\n",
    "    return sum(np.array(x) ** 2)\n",
    "\n",
    "best = fmin(\n",
    "    fn=sphere,\n",
    "    space=[\n",
    "        hp.uniform('x', -1, 1),\n",
    "        hp.uniform('y', -1, 1)\n",
    "    ],\n",
    "    algo=tpe.suggest,\n",
    "    max_evals=1000\n",
    ")\n",
    "print(best)"
   ]
  },
  {
   "cell_type": "markdown",
   "metadata": {},
   "source": [
    "# Retain Information\n",
    "A call of `fmin` will perform a specified number of trials (`max_evals`). Each \n",
    "time a trial is performed, the objective function will be returned. It is \n",
    "possible to write the objective function so that it return a dictionary of \n",
    "additional information for every trial about which you might be curious. \n",
    "\n",
    "The returned dictionary must have the keys `loss` and `status`. Other keys are \n",
    "completely flexible. "
   ]
  },
  {
   "cell_type": "code",
   "execution_count": 11,
   "metadata": {},
   "outputs": [
    {
     "name": "stdout",
     "output_type": "stream",
     "text": [
      "100%|██████████| 500/500 [00:00<00:00, 679.95trial/s, best loss: 7.433509478477105e-07] \n",
      "{'x': -0.0008621780256117123}\n"
     ]
    }
   ],
   "source": [
    "def objective(x):\n",
    "    \"\"\"\n",
    "    Another simple parabola. Suppose we would like to know whether or not each \n",
    "    trial used a positive or negative hyperparameter x. \n",
    "    \"\"\"\n",
    "    extra_info = \"\"\n",
    "    if x > 0:\n",
    "        extra_info = \"pos\"\n",
    "    elif x < 0:\n",
    "        extra_info = \"neg\"\n",
    "    else:\n",
    "        extra_info = \"zero\"\n",
    "    \n",
    "    return {\n",
    "        'loss': x ** 2,         # the scalar output value of the function\n",
    "        'status': STATUS_OK,    # unsure\n",
    "        # results you are curious about\n",
    "        'other_stuff': {'type': str, 'value': extra_info}\n",
    "    }\n",
    "\n",
    "# make a new trials object\n",
    "trials = Trials()\n",
    "best = fmin(\n",
    "    objective,\n",
    "    space=hp.uniform('x', -10, 10),\n",
    "    algo=tpe.suggest,\n",
    "    max_evals=500,\n",
    "    trials=trials       # every trial will be stored in the trials object\n",
    ")\n",
    "print(best)"
   ]
  },
  {
   "cell_type": "markdown",
   "metadata": {},
   "source": [
    "Now we are able to access information about the trial. "
   ]
  },
  {
   "cell_type": "code",
   "execution_count": 12,
   "metadata": {},
   "outputs": [
    {
     "name": "stdout",
     "output_type": "stream",
     "text": [
      "{'state': 2, 'tid': 0, 'spec': None, 'result': {'loss': 2.461252560832373, 'status': 'ok', 'other_stuff': {'type': <class 'str'>, 'value': 'pos'}}, 'misc': {'tid': 0, 'cmd': ('domain_attachment', 'FMinIter_Domain'), 'workdir': None, 'idxs': {'x': [0]}, 'vals': {'x': [1.568837965129724]}}, 'exp_key': None, 'owner': None, 'version': 0, 'book_time': datetime.datetime(2022, 7, 13, 6, 33, 16, 191000), 'refresh_time': datetime.datetime(2022, 7, 13, 6, 33, 16, 191000)}\n",
      "{'state': 2, 'tid': 499, 'spec': None, 'result': {'loss': 0.3545849064288783, 'status': 'ok', 'other_stuff': {'type': <class 'str'>, 'value': 'neg'}}, 'misc': {'tid': 499, 'cmd': ('domain_attachment', 'FMinIter_Domain'), 'workdir': None, 'idxs': {'x': [499]}, 'vals': {'x': [-0.5954703237180492]}}, 'exp_key': None, 'owner': None, 'version': 0, 'book_time': datetime.datetime(2022, 7, 13, 6, 33, 16, 925000), 'refresh_time': datetime.datetime(2022, 7, 13, 6, 33, 16, 925000)}\n"
     ]
    }
   ],
   "source": [
    "# trials.trials is a list of dictionaries representing everything about the search\n",
    "# everything about the first trial\n",
    "print(trials.trials[0])\n",
    "# everything about the last (500th) trial\n",
    "print(trials.trials[-1])"
   ]
  },
  {
   "cell_type": "code",
   "execution_count": 13,
   "metadata": {},
   "outputs": [
    {
     "name": "stdout",
     "output_type": "stream",
     "text": [
      "{'loss': 2.461252560832373, 'status': 'ok', 'other_stuff': {'type': <class 'str'>, 'value': 'pos'}}\n",
      "{'loss': 0.3545849064288783, 'status': 'ok', 'other_stuff': {'type': <class 'str'>, 'value': 'neg'}}\n"
     ]
    }
   ],
   "source": [
    "# trials.results is a list of dictionaries returned by the objective during search\n",
    "print(trials.results[0])\n",
    "print(trials.results[-1])"
   ]
  },
  {
   "cell_type": "code",
   "execution_count": 14,
   "metadata": {},
   "outputs": [
    {
     "name": "stdout",
     "output_type": "stream",
     "text": [
      "2.461252560832373\n",
      "0.3545849064288783\n"
     ]
    },
    {
     "data": {
      "text/plain": [
       "Text(0, 0.5, 'Loss')"
      ]
     },
     "execution_count": 14,
     "metadata": {},
     "output_type": "execute_result"
    },
    {
     "data": {
      "image/png": "[encoded data removed]",
      "text/plain": [
       "<Figure size 432x288 with 1 Axes>"
      ]
     },
     "metadata": {},
     "output_type": "display_data"
    }
   ],
   "source": [
    "# trials.losses() is a list of loss values\n",
    "x_s = [trials.trials[i]['misc']['vals']['x'] for i in range(len(trials.losses()))]\n",
    "losses = trials.losses()\n",
    "print(losses[0])\n",
    "print(losses[-1])\n",
    "plt.scatter(x_s, losses)\n",
    "plt.title(\"Loss as a Function of $x$\")\n",
    "plt.xlabel(\"x\")\n",
    "plt.ylabel(\"Loss\")"
   ]
  },
  {
   "cell_type": "markdown",
   "metadata": {},
   "source": [
    "# Distribution of Hyperparameters\n",
    "Only getting a single best parameter is often not very useful, due to the random \n",
    "nature of Bayesian optimisation. It is better practice to perform multiple calls \n",
    "of `fmin` and forming a distribution of these results. "
   ]
  },
  {
   "cell_type": "code",
   "execution_count": 35,
   "metadata": {},
   "outputs": [
    {
     "name": "stdout",
     "output_type": "stream",
     "text": [
      "Done: 1 / 300\n",
      "Done: 2 / 300\n",
      "Done: 3 / 300\n",
      "Done: 4 / 300\n",
      "Done: 5 / 300\n",
      "Done: 6 / 300\n",
      "Done: 7 / 300\n",
      "Done: 8 / 300\n",
      "Done: 9 / 300\n",
      "Done: 10 / 300\n",
      "Done: 11 / 300\n",
      "Done: 12 / 300\n",
      "Done: 13 / 300\n",
      "Done: 14 / 300\n",
      "Done: 15 / 300\n",
      "Done: 16 / 300\n",
      "Done: 17 / 300\n",
      "Done: 18 / 300\n",
      "Done: 19 / 300\n",
      "Done: 20 / 300\n",
      "Done: 21 / 300\n",
      "Done: 22 / 300\n",
      "Done: 23 / 300\n",
      "Done: 24 / 300\n",
      "Done: 25 / 300\n",
      "Done: 26 / 300\n",
      "Done: 27 / 300\n",
      "Done: 28 / 300\n",
      "Done: 29 / 300\n",
      "Done: 30 / 300\n",
      "Done: 31 / 300\n",
      "Done: 32 / 300\n",
      "Done: 33 / 300\n",
      "Done: 34 / 300\n",
      "Done: 35 / 300\n",
      "Done: 36 / 300\n",
      "Done: 37 / 300\n",
      "Done: 38 / 300\n",
      "Done: 39 / 300\n",
      "Done: 40 / 300\n",
      "Done: 41 / 300\n",
      "Done: 42 / 300\n",
      "Done: 43 / 300\n",
      "Done: 44 / 300\n",
      "Done: 45 / 300\n",
      "Done: 46 / 300\n",
      "Done: 47 / 300\n",
      "Done: 48 / 300\n",
      "Done: 49 / 300\n",
      "Done: 50 / 300\n",
      "Done: 51 / 300\n",
      "Done: 52 / 300\n",
      "Done: 53 / 300\n",
      "Done: 54 / 300\n",
      "Done: 55 / 300\n",
      "Done: 56 / 300\n",
      "Done: 57 / 300\n",
      "Done: 58 / 300\n",
      "Done: 59 / 300\n",
      "Done: 60 / 300\n",
      "Done: 61 / 300\n",
      "Done: 62 / 300\n",
      "Done: 63 / 300\n",
      "Done: 64 / 300\n",
      "Done: 65 / 300\n",
      "Done: 66 / 300\n",
      "Done: 67 / 300\n",
      "Done: 68 / 300\n",
      "Done: 69 / 300\n",
      "Done: 70 / 300\n",
      "Done: 71 / 300\n",
      "Done: 72 / 300\n",
      "Done: 73 / 300\n",
      "Done: 74 / 300\n",
      "Done: 75 / 300\n",
      "Done: 76 / 300\n",
      "Done: 77 / 300\n",
      "Done: 78 / 300\n",
      "Done: 79 / 300\n",
      "Done: 80 / 300\n",
      "Done: 81 / 300\n",
      "Done: 82 / 300\n",
      "Done: 83 / 300\n",
      "Done: 84 / 300\n",
      "Done: 85 / 300\n",
      "Done: 86 / 300\n",
      "Done: 87 / 300\n",
      "Done: 88 / 300\n",
      "Done: 89 / 300\n",
      "Done: 90 / 300\n",
      "Done: 91 / 300\n",
      "Done: 92 / 300\n",
      "Done: 93 / 300\n",
      "Done: 94 / 300\n",
      "Done: 95 / 300\n",
      "Done: 96 / 300\n",
      "Done: 97 / 300\n",
      "Done: 98 / 300\n",
      "Done: 99 / 300\n",
      "Done: 100 / 300\n",
      "Done: 101 / 300\n",
      "Done: 102 / 300\n",
      "Done: 103 / 300\n",
      "Done: 104 / 300\n",
      "Done: 105 / 300\n",
      "Done: 106 / 300\n",
      "Done: 107 / 300\n",
      "Done: 108 / 300\n",
      "Done: 109 / 300\n",
      "Done: 110 / 300\n",
      "Done: 111 / 300\n",
      "Done: 112 / 300\n",
      "Done: 113 / 300\n",
      "Done: 114 / 300\n",
      "Done: 115 / 300\n",
      "Done: 116 / 300\n",
      "Done: 117 / 300\n",
      "Done: 118 / 300\n",
      "Done: 119 / 300\n",
      "Done: 120 / 300\n",
      "Done: 121 / 300\n",
      "Done: 122 / 300\n",
      "Done: 123 / 300\n",
      "Done: 124 / 300\n",
      "Done: 125 / 300\n",
      "Done: 126 / 300\n",
      "Done: 127 / 300\n",
      "Done: 128 / 300\n",
      "Done: 129 / 300\n",
      "Done: 130 / 300\n",
      "Done: 131 / 300\n",
      "Done: 132 / 300\n",
      "Done: 133 / 300\n",
      "Done: 134 / 300\n",
      "Done: 135 / 300\n",
      "Done: 136 / 300\n",
      "Done: 137 / 300\n",
      "Done: 138 / 300\n",
      "Done: 139 / 300\n",
      "Done: 140 / 300\n",
      "Done: 141 / 300\n",
      "Done: 142 / 300\n",
      "Done: 143 / 300\n",
      "Done: 144 / 300\n",
      "Done: 145 / 300\n",
      "Done: 146 / 300\n",
      "Done: 147 / 300\n",
      "Done: 148 / 300\n",
      "Done: 149 / 300\n",
      "Done: 150 / 300\n",
      "Done: 151 / 300\n",
      "Done: 152 / 300\n",
      "Done: 153 / 300\n",
      "Done: 154 / 300\n",
      "Done: 155 / 300\n",
      "Done: 156 / 300\n",
      "Done: 157 / 300\n",
      "Done: 158 / 300\n",
      "Done: 159 / 300\n",
      "Done: 160 / 300\n",
      "Done: 161 / 300\n",
      "Done: 162 / 300\n",
      "Done: 163 / 300\n",
      "Done: 164 / 300\n",
      "Done: 165 / 300\n",
      "Done: 166 / 300\n",
      "Done: 167 / 300\n",
      "Done: 168 / 300\n",
      "Done: 169 / 300\n",
      "Done: 170 / 300\n",
      "Done: 171 / 300\n",
      "Done: 172 / 300\n",
      "Done: 173 / 300\n",
      "Done: 174 / 300\n",
      "Done: 175 / 300\n",
      "Done: 176 / 300\n",
      "Done: 177 / 300\n",
      "Done: 178 / 300\n",
      "Done: 179 / 300\n",
      "Done: 180 / 300\n",
      "Done: 181 / 300\n",
      "Done: 182 / 300\n",
      "Done: 183 / 300\n",
      "Done: 184 / 300\n",
      "Done: 185 / 300\n",
      "Done: 186 / 300\n",
      "Done: 187 / 300\n",
      "Done: 188 / 300\n",
      "Done: 189 / 300\n",
      "Done: 190 / 300\n",
      "Done: 191 / 300\n",
      "Done: 192 / 300\n",
      "Done: 193 / 300\n",
      "Done: 194 / 300\n",
      "Done: 195 / 300\n",
      "Done: 196 / 300\n",
      "Done: 197 / 300\n",
      "Done: 198 / 300\n",
      "Done: 199 / 300\n",
      "Done: 200 / 300\n",
      "Done: 201 / 300\n",
      "Done: 202 / 300\n",
      "Done: 203 / 300\n",
      "Done: 204 / 300\n",
      "Done: 205 / 300\n",
      "Done: 206 / 300\n",
      "Done: 207 / 300\n",
      "Done: 208 / 300\n",
      "Done: 209 / 300\n",
      "Done: 210 / 300\n",
      "Done: 211 / 300\n",
      "Done: 212 / 300\n",
      "Done: 213 / 300\n",
      "Done: 214 / 300\n",
      "Done: 215 / 300\n",
      "Done: 216 / 300\n",
      "Done: 217 / 300\n",
      "Done: 218 / 300\n",
      "Done: 219 / 300\n",
      "Done: 220 / 300\n",
      "Done: 221 / 300\n",
      "Done: 222 / 300\n",
      "Done: 223 / 300\n",
      "Done: 224 / 300\n",
      "Done: 225 / 300\n",
      "Done: 226 / 300\n",
      "Done: 227 / 300\n",
      "Done: 228 / 300\n",
      "Done: 229 / 300\n",
      "Done: 230 / 300\n",
      "Done: 231 / 300\n",
      "Done: 232 / 300\n",
      "Done: 233 / 300\n",
      "Done: 234 / 300\n",
      "Done: 235 / 300\n",
      "Done: 236 / 300\n",
      "Done: 237 / 300\n",
      "Done: 238 / 300\n",
      "Done: 239 / 300\n",
      "Done: 240 / 300\n",
      "Done: 241 / 300\n",
      "Done: 242 / 300\n",
      "Done: 243 / 300\n",
      "Done: 244 / 300\n",
      "Done: 245 / 300\n",
      "Done: 246 / 300\n",
      "Done: 247 / 300\n",
      "Done: 248 / 300\n",
      "Done: 249 / 300\n",
      "Done: 250 / 300\n",
      "Done: 251 / 300\n",
      "Done: 252 / 300\n",
      "Done: 253 / 300\n",
      "Done: 254 / 300\n",
      "Done: 255 / 300\n",
      "Done: 256 / 300\n",
      "Done: 257 / 300\n",
      "Done: 258 / 300\n",
      "Done: 259 / 300\n",
      "Done: 260 / 300\n",
      "Done: 261 / 300\n",
      "Done: 262 / 300\n",
      "Done: 263 / 300\n",
      "Done: 264 / 300\n",
      "Done: 265 / 300\n",
      "Done: 266 / 300\n",
      "Done: 267 / 300\n",
      "Done: 268 / 300\n",
      "Done: 269 / 300\n",
      "Done: 270 / 300\n",
      "Done: 271 / 300\n",
      "Done: 272 / 300\n",
      "Done: 273 / 300\n",
      "Done: 274 / 300\n",
      "Done: 275 / 300\n",
      "Done: 276 / 300\n",
      "Done: 277 / 300\n",
      "Done: 278 / 300\n",
      "Done: 279 / 300\n",
      "Done: 280 / 300\n",
      "Done: 281 / 300\n",
      "Done: 282 / 300\n",
      "Done: 283 / 300\n",
      "Done: 284 / 300\n",
      "Done: 285 / 300\n",
      "Done: 286 / 300\n",
      "Done: 287 / 300\n",
      "Done: 288 / 300\n",
      "Done: 289 / 300\n",
      "Done: 290 / 300\n",
      "Done: 291 / 300\n",
      "Done: 292 / 300\n",
      "Done: 293 / 300\n",
      "Done: 294 / 300\n",
      "Done: 295 / 300\n",
      "Done: 296 / 300\n",
      "Done: 297 / 300\n",
      "Done: 298 / 300\n",
      "Done: 299 / 300\n",
      "Done: 300 / 300\n"
     ]
    }
   ],
   "source": [
    "n = 300\n",
    "optimised_params = []\n",
    "for i in range(n):\n",
    "    best = fmin(\n",
    "        fn=sphere,\n",
    "        space=[hp.uniform('x', -2, 2), hp.uniform('y', -2, 2)],\n",
    "        algo=tpe.suggest,\n",
    "        max_evals=100,\n",
    "        show_progressbar=False\n",
    "    )\n",
    "\n",
    "    optimised_params.append(best)\n",
    "    print(\"Done: {} / {}\".format(i + 1, n))\n"
   ]
  },
  {
   "cell_type": "code",
   "execution_count": 36,
   "metadata": {},
   "outputs": [
    {
     "data": {
      "text/html": [
       "<div>\n",
       "<style scoped>\n",
       "    .dataframe tbody tr th:only-of-type {\n",
       "        vertical-align: middle;\n",
       "    }\n",
       "\n",
       "    .dataframe tbody tr th {\n",
       "        vertical-align: top;\n",
       "    }\n",
       "\n",
       "    .dataframe thead th {\n",
       "        text-align: right;\n",
       "    }\n",
       "</style>\n",
       "<table border=\"1\" class=\"dataframe\">\n",
       "  <thead>\n",
       "    <tr style=\"text-align: right;\">\n",
       "      <th></th>\n",
       "      <th>x</th>\n",
       "      <th>y</th>\n",
       "    </tr>\n",
       "  </thead>\n",
       "  <tbody>\n",
       "    <tr>\n",
       "      <th>0</th>\n",
       "      <td>0.026062</td>\n",
       "      <td>-0.159885</td>\n",
       "    </tr>\n",
       "    <tr>\n",
       "      <th>1</th>\n",
       "      <td>0.010243</td>\n",
       "      <td>0.008067</td>\n",
       "    </tr>\n",
       "    <tr>\n",
       "      <th>2</th>\n",
       "      <td>-0.083737</td>\n",
       "      <td>-0.038757</td>\n",
       "    </tr>\n",
       "    <tr>\n",
       "      <th>3</th>\n",
       "      <td>-0.061591</td>\n",
       "      <td>0.113500</td>\n",
       "    </tr>\n",
       "    <tr>\n",
       "      <th>4</th>\n",
       "      <td>-0.240181</td>\n",
       "      <td>-0.048707</td>\n",
       "    </tr>\n",
       "  </tbody>\n",
       "</table>\n",
       "</div>"
      ],
      "text/plain": [
       "          x         y\n",
       "0  0.026062 -0.159885\n",
       "1  0.010243  0.008067\n",
       "2 -0.083737 -0.038757\n",
       "3 -0.061591  0.113500\n",
       "4 -0.240181 -0.048707"
      ]
     },
     "execution_count": 36,
     "metadata": {},
     "output_type": "execute_result"
    }
   ],
   "source": [
    "df = pd.DataFrame(optimised_params)\n",
    "df.head()"
   ]
  },
  {
   "cell_type": "code",
   "execution_count": 37,
   "metadata": {},
   "outputs": [
    {
     "name": "stdout",
     "output_type": "stream",
     "text": [
      "x: mean: 5.2923964117657835e-05, stdev: 0.08203890856569714\n",
      "y: 0.0020717890738042475, stdev: 0.08463410293688535\n"
     ]
    },
    {
     "data": {
      "text/plain": [
       "array([[<AxesSubplot:title={'center':'y'}>]], dtype=object)"
      ]
     },
     "execution_count": 37,
     "metadata": {},
     "output_type": "execute_result"
    },
    {
     "data": {
      "image/png": "[encoded data removed]",
      "text/plain": [
       "<Figure size 432x288 with 1 Axes>"
      ]
     },
     "metadata": {},
     "output_type": "display_data"
    },
    {
     "data": {
      "image/png": "[encoded data removed]",
      "text/plain": [
       "<Figure size 432x288 with 1 Axes>"
      ]
     },
     "metadata": {},
     "output_type": "display_data"
    }
   ],
   "source": [
    "print(\"x: mean: {}, stdev: {}\".format(df['x'].mean(), df['x'].std()))\n",
    "print(\"y: {}, stdev: {}\".format(df['y'].mean(), df['y'].std()))\n",
    "df.hist('x')\n",
    "df.hist('y')"
   ]
  },
  {
   "cell_type": "code",
   "execution_count": null,
   "metadata": {},
   "outputs": [],
   "source": []
  }
 ],
 "metadata": {
  "kernelspec": {
   "display_name": "Python 3.10.2 ('.env': venv)",
   "language": "python",
   "name": "python3"
  },
  "language_info": {
   "codemirror_mode": {
    "name": "ipython",
    "version": 3
   },
   "file_extension": ".py",
   "mimetype": "text/x-python",
   "name": "python",
   "nbconvert_exporter": "python",
   "pygments_lexer": "ipython3",
   "version": "3.10.2"
  },
  "orig_nbformat": 4,
  "vscode": {
   "interpreter": {
    "hash": "f69d0143db15039426d3f6c96150b379556a801edcb61afe066fb0251c6bfa9a"
   }
  }
 },
 "nbformat": 4,
 "nbformat_minor": 2
}
