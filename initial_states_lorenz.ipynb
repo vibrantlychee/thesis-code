{
 "cells": [
  {
   "cell_type": "code",
   "execution_count": null,
   "metadata": {},
   "outputs": [],
   "source": [
    "import numpy as np\n",
    "import matplotlib.pyplot as plt\n",
    "\n",
    "import data.data as data\n",
    "import data.acf as acf\n",
    "import error.error as error\n",
    "import reservoir.reservoir as res"
   ]
  },
  {
   "cell_type": "code",
   "execution_count": null,
   "metadata": {},
   "outputs": [],
   "source": [
    "LORENZ_LYAPUNOV = 0.91\n",
    "DEL_T = 0.02\n",
    "STEPS = 4000\n",
    "WASHOUT = 3500"
   ]
  },
  {
   "cell_type": "code",
   "execution_count": null,
   "metadata": {},
   "outputs": [],
   "source": [
    "seeds = range(1, 1000)\n",
    "initial_states = [\n",
    "    list(np.random.RandomState(seed).uniform(-5, 5, 3))\n",
    "    for seed in seeds\n",
    "]\n",
    "initial_states"
   ]
  },
  {
   "cell_type": "code",
   "execution_count": null,
   "metadata": {},
   "outputs": [],
   "source": [
    "u_all = []\n",
    "i = 0\n",
    "for u_0 in initial_states:\n",
    "    u_all.append(data.generate_lorenz_63(initial_state=u_0, del_t=DEL_T, steps=STEPS, washout=WASHOUT))\n",
    "    print(i)\n",
    "    i += 1"
   ]
  },
  {
   "cell_type": "code",
   "execution_count": null,
   "metadata": {},
   "outputs": [],
   "source": [
    "time_all = []\n",
    "acfs_all = []\n",
    "preds_all = []\n",
    "rmse_all = []\n",
    "\n",
    "i = 0\n",
    "while i < len(u_all):\n",
    "    u = u_all[i]\n",
    "    seed = seeds[i]\n",
    "\n",
    "    T = u.shape[0]\n",
    "    time = np.arange(T) * DEL_T * LORENZ_LYAPUNOV\n",
    "    acfs = acf.compute_acfs(u, \"x\", \"x\")\n",
    "    W_out, r, A, W_in = res.train_p(u, rho=0.6, s_in=1, R=500, beta=10e-4, seed=seed)\n",
    "    preds = res.predict(u[0], W_out, T, A, W_in)\n",
    "\n",
    "    time_all.append(time)\n",
    "    acfs_all.append(acfs)\n",
    "    preds_all.append(preds)\n",
    "    rmse_all.append(error.RMSE(u, preds))\n",
    "\n",
    "    print(\"{} / {} done\".format(i+1, len(u_all)))\n",
    "    i += 1"
   ]
  },
  {
   "cell_type": "code",
   "execution_count": null,
   "metadata": {},
   "outputs": [],
   "source": [
    "rmse_all = np.array(rmse_all)"
   ]
  },
  {
   "cell_type": "code",
   "execution_count": null,
   "metadata": {},
   "outputs": [],
   "source": [
    "plt.figure(facecolor=\"white\")\n",
    "plt.hist(rmse_all[:, 0], bins=20, alpha=0.5, label=\"x\")\n",
    "plt.hist(rmse_all[:, 1], bins=20, alpha=0.5, label=\"y\")\n",
    "plt.hist(rmse_all[:, 2], bins=20, alpha=0.5, label=\"z\")\n",
    "\n",
    "plt.xlabel(\"RMSE\")\n",
    "plt.ylabel(\"Frequency\")\n",
    "\n",
    "plt.legend()"
   ]
  },
  {
   "cell_type": "code",
   "execution_count": null,
   "metadata": {},
   "outputs": [],
   "source": [
    "print(np.mean(rmse_all[:, 0]))\n",
    "print(np.mean(rmse_all[:, 1]))\n",
    "print(np.mean(rmse_all[:, 2]))"
   ]
  },
  {
   "cell_type": "code",
   "execution_count": null,
   "metadata": {},
   "outputs": [],
   "source": [
    "print(np.var(rmse_all[:, 0]))\n",
    "print(np.var(rmse_all[:, 1]))\n",
    "print(np.var(rmse_all[:, 2]))"
   ]
  },
  {
   "cell_type": "code",
   "execution_count": null,
   "metadata": {},
   "outputs": [],
   "source": []
  },
  {
   "cell_type": "code",
   "execution_count": null,
   "metadata": {},
   "outputs": [],
   "source": [
    "ROESSLER_LYAPUNOV = 1\n",
    "DEL_T = 0.01\n",
    "STEPS = 10000\n",
    "WASHOUT = 3000"
   ]
  },
  {
   "cell_type": "code",
   "execution_count": null,
   "metadata": {},
   "outputs": [],
   "source": [
    "seeds = range(1, 1000)\n",
    "initial_states = [\n",
    "    list(np.random.RandomState(seed).uniform(-5, 5, 3))\n",
    "    for seed in seeds\n",
    "]\n",
    "initial_states"
   ]
  },
  {
   "cell_type": "code",
   "execution_count": null,
   "metadata": {},
   "outputs": [],
   "source": [
    "u_all = []\n",
    "for u_0 in initial_states:\n",
    "    u_all.append(data.generate_roessler(initial_state=u_0, del_t=DEL_T, steps=STEPS, washout=WASHOUT))"
   ]
  },
  {
   "cell_type": "code",
   "execution_count": null,
   "metadata": {},
   "outputs": [],
   "source": [
    "time_all = []\n",
    "acfs_all = []\n",
    "preds_all = []\n",
    "rmse_all = []\n",
    "\n",
    "i = 0\n",
    "while i < len(u_all):\n",
    "    u = u_all[i]\n",
    "    seed = seeds[i]\n",
    "\n",
    "    T = u.shape[0]\n",
    "    time = np.arange(T) * DEL_T * ROESSLER_LYAPUNOV\n",
    "    acfs = acf.compute_acfs(u, \"x\", \"x\")\n",
    "    W_out, r, A, W_in = res.train_p(u, rho=0.1, s_in=1, R=500, beta=10e-4, seed=seed)\n",
    "    preds = res.predict(u[0], W_out, T, A, W_in)\n",
    "\n",
    "    time_all.append(time)\n",
    "    acfs_all.append(acfs)\n",
    "    preds_all.append(preds)\n",
    "    rmse_all.append(error.RMSE(u, preds))\n",
    "\n",
    "    print(\"{} / {} done\".format(i+1, len(u_all)))\n",
    "    i += 1"
   ]
  },
  {
   "cell_type": "code",
   "execution_count": null,
   "metadata": {},
   "outputs": [],
   "source": [
    "rmse_all = np.array(rmse_all)"
   ]
  },
  {
   "cell_type": "code",
   "execution_count": null,
   "metadata": {},
   "outputs": [],
   "source": [
    "plt.figure(facecolor=\"white\")\n",
    "plt.hist(rmse_all[:, 0], bins=20, alpha=0.5, label=\"x\")\n",
    "plt.hist(rmse_all[:, 1], bins=20, alpha=0.5, label=\"y\")\n",
    "plt.hist(rmse_all[:, 2], bins=20, alpha=0.5, label=\"z\")\n",
    "\n",
    "plt.xlabel(\"RMSE\")\n",
    "plt.ylabel(\"Frequency\")\n",
    "\n",
    "plt.legend()"
   ]
  },
  {
   "cell_type": "code",
   "execution_count": null,
   "metadata": {},
   "outputs": [],
   "source": [
    "print(np.mean(rmse_all[:, 0]))\n",
    "print(np.mean(rmse_all[:, 1]))\n",
    "print(np.mean(rmse_all[:, 2]))"
   ]
  },
  {
   "cell_type": "code",
   "execution_count": null,
   "metadata": {},
   "outputs": [],
   "source": [
    "print(np.var(rmse_all[:, 0]))\n",
    "print(np.var(rmse_all[:, 1]))\n",
    "print(np.var(rmse_all[:, 2]))"
   ]
  }
 ],
 "metadata": {
  "interpreter": {
   "hash": "f69d0143db15039426d3f6c96150b379556a801edcb61afe066fb0251c6bfa9a"
  },
  "kernelspec": {
   "display_name": "Python 3.10.2 ('.env': venv)",
   "language": "python",
   "name": "python3"
  },
  "language_info": {
   "codemirror_mode": {
    "name": "ipython",
    "version": 3
   },
   "file_extension": ".py",
   "mimetype": "text/x-python",
   "name": "python",
   "nbconvert_exporter": "python",
   "pygments_lexer": "ipython3",
   "version": "3.10.2"
  },
  "orig_nbformat": 4
 },
 "nbformat": 4,
 "nbformat_minor": 2
}
