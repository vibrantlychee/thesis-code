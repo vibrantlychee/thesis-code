{
 "cells": [
  {
   "cell_type": "code",
   "execution_count": null,
   "metadata": {},
   "outputs": [],
   "source": []
  }
 ],
 "metadata": {
  "kernelspec": {
   "display_name": "Python 3.10.2 ('.env': venv)",
   "language": "python",
   "name": "python3"
  },
  "language_info": {
   "name": "python",
   "version": "3.10.2"
  },
  "orig_nbformat": 4,
  "vscode": {
   "interpreter": {
    "hash": "f69d0143db15039426d3f6c96150b379556a801edcb61afe066fb0251c6bfa9a"
   }
  }
 },
 "nbformat": 4,
 "nbformat_minor": 2
}
