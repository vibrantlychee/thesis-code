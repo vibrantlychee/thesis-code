{
 "cells": [
  {
   "cell_type": "code",
   "execution_count": 1,
   "metadata": {},
   "outputs": [],
   "source": [
    "import numpy as np\n",
    "import pandas as pd\n",
    "import matplotlib.pyplot as plt \n",
    "plt.rcParams['figure.facecolor'] = \"white\"\n",
    "\n",
    "from reservoir import reservoir as res\n",
    "from data import data\n",
    "from error import error\n",
    "\n",
    "from reservoir.reservoir import modify_node"
   ]
  },
  {
   "cell_type": "code",
   "execution_count": 2,
   "metadata": {},
   "outputs": [],
   "source": [
    "DEL_T = 0.01\n",
    "STEPS=30000\n",
    "WASHOUT=20000\n",
    "\n",
    "# number of reservoir nodes\n",
    "N = 100\n",
    "# dimension of input signal\n",
    "d = 3"
   ]
  },
  {
   "cell_type": "code",
   "execution_count": 3,
   "metadata": {},
   "outputs": [],
   "source": [
    "hyperparams = {\n",
    "    'GAMMA': 7.7,\n",
    "    'SIGMA': 0.81,\n",
    "    'RHO_IN': 0.37,\n",
    "    'K': 3,\n",
    "    'RHO_R': 0.41,\n",
    "}"
   ]
  },
  {
   "cell_type": "code",
   "execution_count": 4,
   "metadata": {},
   "outputs": [],
   "source": [
    "GAMMA_RANGE = np.linspace(7, 11, 10)\n",
    "SIGMA_RANGE = np.linspace(0.1, 1.0, 10)\n",
    "RHO_IN_RANGE = np.linspace(0.3, 1.5, 10)\n",
    "K_RANGE = range(1, 6)\n",
    "RHO_R_RANGE = np.linspace(0.3, 1.5, 10)"
   ]
  },
  {
   "cell_type": "code",
   "execution_count": 5,
   "metadata": {},
   "outputs": [],
   "source": [
    "from typing import Type, Optional, Union, Tuple\n",
    "\n",
    "def evaluate_forecast(reservoir_size: int, alpha: np.double, hyperparams: dict, \n",
    "                      training_data: np.ndarray, test_data: np.ndarray, seed: int, \n",
    "                      adjust_for_symmetry: bool = True) -> Tuple[np.ndarray]:\n",
    "    \"\"\"\n",
    "    Computes the forecast error of a reservoir network generated using the given \n",
    "    training and test data. \n",
    "\n",
    "    Args:\n",
    "        reservoir_size (int): the number of nodes in the reservoir network.\n",
    "        alpha (np.double): the Tikhonov regularisation constant.\n",
    "        hyperparams (dict): the hyperparameters used to initiate the reservoir.\n",
    "        training_data (np.ndarray): the training data, of shape n1 x d.  \n",
    "        test_data (np.ndarray): the test data, of shape n2 x d.\n",
    "        seed (int): seed for reproduceability. \n",
    "        adjust_for_symmetry (bool): whether or not the network needs to be \n",
    "            transformed to account for the symmetry in the underlying input \n",
    "            signal series. \n",
    "\n",
    "            Defaults to True. \n",
    "    \n",
    "    Returns:\n",
    "        (Tuple): a tuple containing:\n",
    "            (np.ndarray) the forecast error of the predictions. \n",
    "            (np.ndarray) the forecasted values.\n",
    "            (np.ndarray) the forecast reservoir network.\n",
    "            (np.ndarray) the training reservoir network.\n",
    "            (np.ndarray) W_out, the output linear transformation.\n",
    "            (np.ndarray) W_r, the internal connection network.\n",
    "            (np.ndarray) W_in, the input signal to node connection network.\n",
    "    \"\"\"\n",
    "    # compute dimensions\n",
    "    N = reservoir_size\n",
    "    n1 = training_data.shape[0]\n",
    "    n2 = test_data.shape[0]\n",
    "    d = training_data.shape[1]\n",
    "\n",
    "    # initiate reservoir internals\n",
    "    W_r = res.generate_W_r(hyperparams, (N, N), seed=seed)\n",
    "    W_in = res.generate_W_in(hyperparams, (N, d), seed=seed)\n",
    "\n",
    "    # train W_out\n",
    "    training_res = res.generate_training_reservoir(\n",
    "        data=training_data,\n",
    "        hyperparams=hyperparams,\n",
    "        W_r=W_r,\n",
    "        W_in=W_in,\n",
    "        delta_t=DEL_T,\n",
    "        adjust_for_symmetry=adjust_for_symmetry\n",
    "    )\n",
    "    W_out = res.generate_W_out(data=training_data, res=training_res, alpha=alpha)\n",
    "\n",
    "    # make forecast\n",
    "    forecast_res = res.generate_forecast_reservoir(\n",
    "        r_0=np.dot(W_in, test_data[0]),\n",
    "        data=test_data,\n",
    "        hyperparams=hyperparams,\n",
    "        W_r=W_r,\n",
    "        W_in=W_in,\n",
    "        W_out=W_out,\n",
    "        delta_t=DEL_T,\n",
    "        adjust_for_symmetry=adjust_for_symmetry\n",
    "    )\n",
    "\n",
    "    preds = res.readout_network(forecast_res, W_out)\n",
    "\n",
    "    return (error.RMSE(test_data, preds), preds, forecast_res, training_res, \n",
    "            W_out, W_r, W_in)"
   ]
  },
  {
   "cell_type": "code",
   "execution_count": 6,
   "metadata": {},
   "outputs": [],
   "source": [
    "train_data = data.generate_lorenz_63(del_t=DEL_T, steps=STEPS, washout=WASHOUT)\n",
    "test_data = data.generate_lorenz_63(\n",
    "    initial_state=np.random.choice(np.linspace(-10, 10), 3),\n",
    "    del_t=DEL_T, steps=STEPS, washout=WASHOUT\n",
    ")\n",
    "ALPHA = 0.001\n",
    "trial = evaluate_forecast(\n",
    "    reservoir_size=N,\n",
    "    alpha=ALPHA,\n",
    "    hyperparams=hyperparams,\n",
    "    training_data=train_data,\n",
    "    test_data=test_data,\n",
    "    seed=42,\n",
    "    adjust_for_symmetry=True\n",
    ")"
   ]
  },
  {
   "cell_type": "code",
   "execution_count": 7,
   "metadata": {},
   "outputs": [
    {
     "name": "stdout",
     "output_type": "stream",
     "text": [
      "Search space: 1000\n"
     ]
    }
   ],
   "source": [
    "# search_space_size = len(GAMMA_RANGE) * len(SIGMA_RANGE) * len(RHO_IN_RANGE) * len(K_RANGE) * len(RHO_R_RANGE)\n",
    "search_space_size = len(GAMMA_RANGE) * len(RHO_IN_RANGE) * len(RHO_R_RANGE)\n",
    "print(\"Search space: {}\".format(search_space_size))"
   ]
  },
  {
   "cell_type": "code",
   "execution_count": 8,
   "metadata": {},
   "outputs": [],
   "source": [
    "# trials_hyperparams = []\n",
    "# trials = []\n",
    "# count = 1\n",
    "\n",
    "# for gamma in GAMMA_RANGE:\n",
    "#     for rho_in in RHO_IN_RANGE:\n",
    "#         for rho_r in RHO_R_RANGE:\n",
    "#             hyperparams = {\n",
    "#                 \"GAMMA\": gamma,\n",
    "#                 \"SIGMA\": 0.5,\n",
    "#                 \"RHO_IN\": rho_in,\n",
    "#                 \"K\": 3,\n",
    "#                 \"RHO_R\": rho_r\n",
    "#             }\n",
    "\n",
    "#             trials_hyperparams.append(hyperparams)\n",
    "            \n",
    "#             trials.append(evaluate_forecast(\n",
    "#                 reservoir_size=N,\n",
    "#                 alpha=ALPHA,\n",
    "#                 hyperparams=hyperparams,\n",
    "#                 training_data=train_data,\n",
    "#                 test_data=test_data,\n",
    "#                 seed=42,\n",
    "#                 adjust_for_symmetry=True\n",
    "#             ))\n",
    "\n",
    "#             print(\"Done: {} / {}\".format(count, search_space_size))\n",
    "#             count += 1"
   ]
  },
  {
   "cell_type": "code",
   "execution_count": null,
   "metadata": {},
   "outputs": [],
   "source": []
  }
 ],
 "metadata": {
  "kernelspec": {
   "display_name": "Python 3.10.2 ('.env': venv)",
   "language": "python",
   "name": "python3"
  },
  "language_info": {
   "codemirror_mode": {
    "name": "ipython",
    "version": 3
   },
   "file_extension": ".py",
   "mimetype": "text/x-python",
   "name": "python",
   "nbconvert_exporter": "python",
   "pygments_lexer": "ipython3",
   "version": "3.10.2"
  },
  "orig_nbformat": 4,
  "vscode": {
   "interpreter": {
    "hash": "f69d0143db15039426d3f6c96150b379556a801edcb61afe066fb0251c6bfa9a"
   }
  }
 },
 "nbformat": 4,
 "nbformat_minor": 2
}
